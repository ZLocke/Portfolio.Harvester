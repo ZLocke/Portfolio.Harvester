{
    "cells": [
        {
            "cell_type": "markdown",
            "metadata": {},
            "source": [
                "# Database Setup\n",
                "\n",
                "## Installation\n",
                "If they aren't already, download and install SQL Server Management Studio and SQL Server Developer\n",
                "\n",
                "https://www.microsoft.com/en-us/sql-server/sql-server-downloads"
            ]
        },
        {
            "cell_type": "markdown",
            "metadata": {},
            "source": [
                "## Create Database\n",
                "Open SSMS as an admin and connect to your localhost.\n",
                "Create a new database. You can do so by right-clicking the Databases folder and selecting New Database. Name it whatever you like."
            ]
        },
        {
            "cell_type": "markdown",
            "metadata": {},
            "source": [
                "## Allow SQL Auth\n",
                "Right-click the server, and select Properties.\n",
                "Go to Security.\n",
                "Under \"Server authentication\", toggle on \"SQL Server and Windows Authentication mode\"\n",
                "\n",
                "This is done so that we can utilize the user we will create soon"
            ]
        },
        {
            "cell_type": "markdown",
            "metadata": {},
            "source": [
                "## Create tables, procedures, etc.\n",
                "Execute the following commands."
            ]
        },
        {
            "cell_type": "code",
            "execution_count": null,
            "metadata": {
                "azdata_cell_guid": "0ff4b918-1b11-4959-98c2-89a536acfb0b",
                "language": "sql"
            },
            "outputs": [],
            "source": [
                "-- Make the table for tickets. You could make this more efficiency by not using NVARCHAR(MAX) and making an index.\n",
                "CREATE TABLE [dbo].[Tickets] (\n",
                "    [id]            INT            NOT NULL,\n",
                "    [url]           NVARCHAR (Max) NOT NULL,\n",
                "    [created_at]    DATETIME       NOT NULL,\n",
                "    [updated_at]    DATETIME       NOT NULL,\n",
                "    [type]          NVARCHAR (Max)  NULL,\n",
                "    [subject]       NVARCHAR (max)  NULL,\n",
                "    [priority]      NVARCHAR (max)  NULL,\n",
                "    [status]        NVARCHAR (max)  NULL,\n",
                "    [recipient]     NVARCHAR (max)  NULL,\n",
                "    [requester]     NVARCHAR (max)  NULL,\n",
                "    [submitter]     NVARCHAR (max)  NULL,\n",
                "    [assignee]      NVARCHAR (max)  NULL,\n",
                "    [organization]  NVARCHAR (max)  NULL,\n",
                "    [group]         NVARCHAR (max)  NULL,\n",
                "    [has_incidents] BIT            NULL,\n",
                "    [is_public]     BIT            NULL,\n",
                "    [tags]          NVARCHAR (max) NULL,\n",
                "    [custom_fields] NVARCHAR (max) NULL,\n",
                "    [fields]        NVARCHAR (max) NULL,\n",
                "    [ticket_form]   NVARCHAR (max)  NULL,\n",
                "    [brand]         NVARCHAR (max)  NULL\n",
                ");"
            ]
        },
        {
            "cell_type": "code",
            "execution_count": null,
            "metadata": {
                "azdata_cell_guid": "937b1137-162a-4107-b6f6-7d28f6618dcc",
                "language": "sql",
                "tags": []
            },
            "outputs": [],
            "source": [
                "-- Make the Stored Procedure for getting tickets that are already up to date.\n",
                "-- If you change the name of the procedure or the parameter, be sure to update the code to match.\n",
                "DROP PROCEDURE IF EXISTS get_ticket_ids;\n",
                "GO\n",
                "CREATE PROCEDURE dbo.get_ticket_ids\n",
                "(\n",
                "    @updatedAt DATETIME\n",
                ")\n",
                "AS\n",
                "    SET NOCOUNT ON;\n",
                "    SELECT [id] FROM [tickets]\n",
                "    WHERE [updated_At] >= @updatedAt;\n",
                "GO"
            ]
        },
        {
            "cell_type": "code",
            "execution_count": null,
            "metadata": {
                "azdata_cell_guid": "d2cbfe98-64e8-4fab-9337-5ae467af4e12",
                "language": "sql"
            },
            "outputs": [],
            "source": [
                "-- Make the type for procedures\n",
                "-- This is used to allow the code to pass in DataTables as a parameter.\n",
                "DROP TYPE IF EXISTS ticketsType;\n",
                "CREATE TYPE ticketsType AS TABLE (\n",
                "    [id]            INT            NOT NULL,\n",
                "    [url]           NVARCHAR (Max) NOT NULL,\n",
                "    [created_at]    DATETIME       NOT NULL,\n",
                "    [updated_at]    DATETIME       NOT NULL,\n",
                "    [type]          NVARCHAR (Max)  NULL,\n",
                "    [subject]       NVARCHAR (max)  NULL,\n",
                "    [priority]      NVARCHAR (max)  NULL,\n",
                "    [status]        NVARCHAR (max)  NULL,\n",
                "    [recipient]     NVARCHAR (max)  NULL,\n",
                "    [requester]     NVARCHAR (max)  NULL,\n",
                "    [submitter]     NVARCHAR (max)  NULL,\n",
                "    [assignee]      NVARCHAR (max)  NULL,\n",
                "    [organization]  NVARCHAR (max)  NULL,\n",
                "    [group]         NVARCHAR (max)  NULL,\n",
                "    [has_incidents] BIT            NULL,\n",
                "    [is_public]     BIT            NULL,\n",
                "    [tags]          NVARCHAR (max) NULL,\n",
                "    [custom_fields] NVARCHAR (max) NULL,\n",
                "    [fields]        NVARCHAR (max) NULL,\n",
                "    [ticket_form]   NVARCHAR (max)  NULL,\n",
                "    [brand]         NVARCHAR (max)  NULL\n",
                ");"
            ]
        },
        {
            "cell_type": "code",
            "execution_count": null,
            "metadata": {
                "azdata_cell_guid": "d129f9a2-04a1-4ad4-b0e7-d220b40c9383",
                "language": "sql",
                "tags": []
            },
            "outputs": [],
            "source": [
                "-- Make the Stored Procedure for getting existing ids. \n",
                "DROP PROCEDURE IF EXISTS insert_tickets;\n",
                "GO\n",
                "CREATE PROCEDURE dbo.insert_tickets( @newTickets ticketsType READONLY )\n",
                "AS\n",
                "    SET NOCOUNT ON;\n",
                "    INSERT INTO tickets\n",
                "    SELECT * FROM @newTickets\n",
                "GO"
            ]
        },
        {
            "cell_type": "code",
            "execution_count": null,
            "metadata": {
                "azdata_cell_guid": "06a86815-f1c3-44a5-b56e-8b4df1384715",
                "language": "sql"
            },
            "outputs": [],
            "source": [
                "-- Make the idList type for the next procedure.\n",
                "DROP TYPE IF EXISTS idListType;\n",
                "CREATE TYPE idListType AS TABLE (\n",
                "    [id]            INT            NOT NULL\n",
                ");"
            ]
        },
        {
            "cell_type": "code",
            "execution_count": null,
            "metadata": {
                "azdata_cell_guid": "f0dd7dde-1ea3-4cff-9957-e36d0a52b964",
                "language": "sql"
            },
            "outputs": [],
            "source": [
                "DROP PROCEDURE IF EXISTS get_stale_tickets;\n",
                "GO\n",
                "CREATE PROCEDURE dbo.get_stale_tickets\n",
                "(\n",
                "    @updatedAt DATETIME,\n",
                "    @idList idListType READONLY\n",
                ")\n",
                "AS\n",
                "    SET NOCOUNT ON;\n",
                "    SELECT [id] FROM [tickets]\n",
                "    WHERE [tickets].[updated_at] <= @updatedAt\n",
                "    AND [tickets].[id] in (SELECT * FROM @idList);\n",
                "GO"
            ]
        },
        {
            "cell_type": "code",
            "execution_count": null,
            "metadata": {
                "azdata_cell_guid": "87e8a754-8a43-4772-a1f0-6bd67098bc41",
                "language": "sql"
            },
            "outputs": [],
            "source": [
                "-- You can change the name here if you want. This user is set up to only have the ability to execute stored procedures.\n",
                "CREATE LOGIN app_user   \n",
                "    WITH PASSWORD = 'somepassword';  \n",
                "GO  \n",
                "\n",
                "-- Creates a database user for the login created above.  \n",
                "CREATE USER app_user FOR LOGIN app_user;  \n",
                "GO  \n",
                "\n",
                "\n",
                "GRANT EXECUTE to app_user"
            ]
        },
        {
            "cell_type": "code",
            "execution_count": null,
            "metadata": {},
            "outputs": [],
            "source": [
                "-- Make the Stored Procedure for getting existing ids. \n",
                "-- You may need to restart SQL Server Management Studio if you are doing initial setup.\n",
                "DROP PROCEDURE IF EXISTS update_tickets;\n",
                "GO\n",
                "CREATE PROCEDURE dbo.update_tickets( @updatedTickets ticketsType READONLY )\n",
                "AS\n",
                "    SET NOCOUNT ON;\n",
                "    update t\n",
                "\tSET\n",
                "t.url = u.url,\n",
                "t.created_at = u.created_at,\n",
                "t.updated_at = u.updated_at,\n",
                "t.type = u.type,\n",
                "t.subject = u.subject,\n",
                "t.priority = u.priority,\n",
                "t.status = u.status,\n",
                "t.recipient = u.recipient,\n",
                "t.requester = u.requester,\n",
                "t.submitter = u.submitter,\n",
                "t.assignee = u.assignee,\n",
                "t.organization = u.organization,\n",
                "t.[group] = u.[group],\n",
                "t.has_incidents = u.has_incidents,\n",
                "t.is_public = u.is_public,\n",
                "t.tags = u.tags,\n",
                "t.custom_fields = u.custom_fields,\n",
                "t.fields = u.fields,\n",
                "t.ticket_form = u.ticket_form,\n",
                "t.brand = u.brand\n",
                "FROM Tickets t\n",
                "INNER JOIN @updatedTickets u\n",
                "ON t.id = u.id;\n",
                "\n",
                "GO"
            ]
        },
        {
            "cell_type": "markdown",
            "metadata": {},
            "source": [
                "## Get Connection String\n",
                "In Visual Studio, open View / SQL Server Object Explorer\n",
                "\n",
                "If it isn't there, go to Tools / Get Tools and Features, Choose to Modify, toggle on the \"Data storage and processing\" toolset under \"Other Toolsets\". Install.\n",
                "\n",
                "In the SQL Server Object Explorer, Click the \"Add Sql Server\" icon. Go to local, and find your localhost server. Log in using the user we just created. If you run into issues here, make sure that the Server is allowing SQL Auth and look at the user and login themselves under Users and Security/Logins in SSMS to make sure nothing is off with the password.\n",
                "\n",
                "Once you have connected, right click the servicer inside of the Visual Studio SQL Server Object Explorer and select Properties. At the top should be a property called \"Connection string\". Copy this.\n",
                "\n",
                "Go to appSettings.json and look for the Zendesk element under \"ConnectionStrings\". Use the copied string as the value for \"Zendesk\". \n"
            ]
        },
        {
            "cell_type": "markdown",
            "metadata": {},
            "source": [
                "## Other appSettings values\n",
                "If you changed the names of the procedures, change them in appSettings as well. \n",
                "If you ever need to change the api token, you can do so here under \"Zendesk:Auth\"."
            ]
        }
    ],
    "metadata": {
        "kernelspec": {
            "display_name": "SQL",
            "language": "sql",
            "name": "SQL"
        },
        "language_info": {
            "name": "sql",
            "version": ""
        }
    },
    "nbformat": 4,
    "nbformat_minor": 2
}
